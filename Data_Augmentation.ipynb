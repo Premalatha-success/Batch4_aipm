{
 "cells": [
  {
   "cell_type": "code",
   "execution_count": 15,
   "id": "7fd88f79-a251-438d-b423-2544cc1da2e1",
   "metadata": {},
   "outputs": [],
   "source": [
    "from tensorflow.keras.preprocessing.image import ImageDataGenerator,load_img,img_to_array"
   ]
  },
  {
   "cell_type": "code",
   "execution_count": 16,
   "id": "df2e5f02-0db6-4e91-a824-871212daa2e6",
   "metadata": {},
   "outputs": [],
   "source": [
    "datagen=ImageDataGenerator(rotation_range=40,width_shift_range=0.2,height_shift_range=0.2,shear_range=0.2,\n",
    "    zoom_range=0.2,horizontal_flip=True, fill_mode='nearest')"
   ]
  },
  {
   "cell_type": "code",
   "execution_count": 17,
   "id": "acacdd13-8697-4d5b-a37d-9c8b1344c2ab",
   "metadata": {},
   "outputs": [],
   "source": [
    "img=load_img(\"cat.1.jpg\")"
   ]
  },
  {
   "cell_type": "code",
   "execution_count": 18,
   "id": "20d65aea-7017-4b4f-9399-d8c04e1a5a13",
   "metadata": {},
   "outputs": [],
   "source": [
    "x=img_to_array(img)"
   ]
  },
  {
   "cell_type": "code",
   "execution_count": 19,
   "id": "4026ca1e-f6a1-4718-86ab-47df0a562f35",
   "metadata": {},
   "outputs": [],
   "source": [
    "x=x.reshape((1,)+x.shape)"
   ]
  },
  {
   "cell_type": "code",
   "execution_count": 21,
   "id": "8ac8d7fa-f9a3-4826-acaf-0f253c97c405",
   "metadata": {},
   "outputs": [],
   "source": [
    "i=0\n",
    "for batch in datagen.flow(x,batch_size=1,save_to_dir=\"preview\",save_prefix=\"cat\",save_format=\"jpeg\"):\n",
    "    i+=1\n",
    "    if i>20:\n",
    "        break"
   ]
  },
  {
   "cell_type": "code",
   "execution_count": null,
   "id": "188b42f5-cb2c-4b99-b0b7-072e2c97125c",
   "metadata": {},
   "outputs": [],
   "source": []
  }
 ],
 "metadata": {
  "kernelspec": {
   "display_name": "Python 3 (ipykernel)",
   "language": "python",
   "name": "python3"
  },
  "language_info": {
   "codemirror_mode": {
    "name": "ipython",
    "version": 3
   },
   "file_extension": ".py",
   "mimetype": "text/x-python",
   "name": "python",
   "nbconvert_exporter": "python",
   "pygments_lexer": "ipython3",
   "version": "3.11.7"
  }
 },
 "nbformat": 4,
 "nbformat_minor": 5
}
